{
 "cells": [
  {
   "cell_type": "code",
   "execution_count": null,
   "metadata": {},
   "outputs": [],
   "source": [
    "import sys\n",
    "import os \n",
    "src_dir = os.path.join(os.getcwd(), '..', 'src')\n",
    "sys.path.append(src_dir)"
   ]
  },
  {
   "cell_type": "code",
   "execution_count": null,
   "metadata": {},
   "outputs": [],
   "source": [
    "import torch\n",
    "from models import mnist\n",
    "from utils import train_model\n",
    "from utils import test_model\n",
    "from load_data import load_mnist"
   ]
  },
  {
   "cell_type": "markdown",
   "metadata": {},
   "source": [
    "Load the data"
   ]
  },
  {
   "cell_type": "code",
   "execution_count": null,
   "metadata": {},
   "outputs": [],
   "source": [
    "trainloader = load_mnist.trainloader(50)\n",
    "testloader = load_mnist.testloader(50)"
   ]
  },
  {
   "cell_type": "markdown",
   "metadata": {},
   "source": [
    "Train and save the nets"
   ]
  },
  {
   "cell_type": "code",
   "execution_count": null,
   "metadata": {},
   "outputs": [],
   "source": [
    "net1 = mnist.MNIST1()\n",
    "train_model.train_model(net1,trainloader,4,0.001)\n",
    "net1.eval()\n",
    "torch.save(net1.state_dict(), '../models/mnist-net1.pt')"
   ]
  },
  {
   "cell_type": "code",
   "execution_count": null,
   "metadata": {},
   "outputs": [],
   "source": [
    "net2 = mnist.MNIST2()\n",
    "train_model.train_model(net2,trainloader,4,0.001)\n",
    "net2.eval()\n",
    "torch.save(net2.state_dict(), '../models/mnist-net2.pt')"
   ]
  },
  {
   "cell_type": "code",
   "execution_count": null,
   "metadata": {},
   "outputs": [],
   "source": [
    "net3 = mnist.MNIST3()\n",
    "train_model.train_model(net3,trainloader,4,0.001)\n",
    "net3.eval()\n",
    "torch.save(net3.state_dict(), '../models/mnist-net3.pt')"
   ]
  },
  {
   "cell_type": "code",
   "execution_count": null,
   "metadata": {},
   "outputs": [],
   "source": [
    "net4 = mnist.MNIST4()\n",
    "train_model.train_model(net4,trainloader,4,0.001)\n",
    "net4.eval()\n",
    "torch.save(net4.state_dict(), '../models/mnist-net4.pt')"
   ]
  },
  {
   "cell_type": "markdown",
   "metadata": {},
   "source": [
    "Load the nets"
   ]
  },
  {
   "cell_type": "code",
   "execution_count": null,
   "metadata": {},
   "outputs": [],
   "source": [
    "net1 = mnist.MNIST1()\n",
    "net1.load_state_dict(torch.load('../models/mnist-net1.pt'))\n",
    "\n",
    "net2 = mnist.MNIST2()\n",
    "net2.load_state_dict(torch.load('../models/mnist-net2.pt'))\n",
    "\n",
    "net3 = mnist.MNIST3()\n",
    "net3.load_state_dict(torch.load('../models/mnist-net3.pt'))\n",
    "\n",
    "net4 = mnist.MNIST4()\n",
    "net4.load_state_dict(torch.load('../models/mnist-net4.pt'));"
   ]
  },
  {
   "cell_type": "markdown",
   "metadata": {},
   "source": [
    "Test the nets"
   ]
  },
  {
   "cell_type": "code",
   "execution_count": null,
   "metadata": {},
   "outputs": [],
   "source": [
    "nets = [net1, net2, net3, net4]\n",
    "for i,net in enumerate(nets,1):\n",
    "    print('Result net%d :' % (i))\n",
    "    test_model.test_model(net, testloader)"
   ]
  }
 ],
 "metadata": {
  "kernelspec": {
   "display_name": "Python 3.9.7 ('.venv': venv)",
   "language": "python",
   "name": "python3"
  },
  "language_info": {
   "codemirror_mode": {
    "name": "ipython",
    "version": 3
   },
   "file_extension": ".py",
   "mimetype": "text/x-python",
   "name": "python",
   "nbconvert_exporter": "python",
   "pygments_lexer": "ipython3",
   "version": "3.9.7"
  },
  "orig_nbformat": 4,
  "vscode": {
   "interpreter": {
    "hash": "643057c40023ccb10f22473f9d4df0fcead4ec60ae2f389010253986399efcb1"
   }
  }
 },
 "nbformat": 4,
 "nbformat_minor": 2
}
