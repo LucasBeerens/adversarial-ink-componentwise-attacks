{
 "cells": [
  {
   "cell_type": "code",
   "execution_count": null,
   "metadata": {},
   "outputs": [],
   "source": [
    "import sys\n",
    "import os \n",
    "src_dir = os.path.join(os.getcwd(), '..', 'src')\n",
    "sys.path.append(src_dir)"
   ]
  },
  {
   "cell_type": "code",
   "execution_count": null,
   "metadata": {},
   "outputs": [],
   "source": [
    "import torch\n",
    "from models import mnist, cifar\n",
    "from utils import train_model\n",
    "from utils import test_model\n",
    "from load_data import load_mnist, load_mnist_inv, load_cifar"
   ]
  },
  {
   "cell_type": "markdown",
   "metadata": {},
   "source": [
    "Load the data"
   ]
  },
  {
   "cell_type": "code",
   "execution_count": null,
   "metadata": {},
   "outputs": [],
   "source": [
    "trainloader = load_mnist.trainloader(50)\n",
    "testloader = load_mnist.testloader(50)\n",
    "\n",
    "trainloaderInv = load_mnist_inv.trainloader(50)\n",
    "testloaderInv = load_mnist_inv.testloader(50)\n",
    "\n",
    "trainloaderCIFAR = load_cifar.trainloader(50)\n",
    "testloaderCIFAR = load_cifar.testloader(50)"
   ]
  },
  {
   "cell_type": "markdown",
   "metadata": {},
   "source": [
    "Train and save the mnist nets"
   ]
  },
  {
   "cell_type": "code",
   "execution_count": null,
   "metadata": {},
   "outputs": [],
   "source": [
    "net1 = mnist.MNIST1()\n",
    "train_model.train_model(net1,trainloader,4,0.001)\n",
    "net1.eval()\n",
    "torch.save(net1.state_dict(), '../models/mnist-net1.pt')"
   ]
  },
  {
   "cell_type": "code",
   "execution_count": null,
   "metadata": {},
   "outputs": [],
   "source": [
    "net2 = mnist.MNIST2()\n",
    "train_model.train_model(net2,trainloader,4,0.001)\n",
    "net2.eval()\n",
    "torch.save(net2.state_dict(), '../models/mnist-net2.pt')"
   ]
  },
  {
   "cell_type": "code",
   "execution_count": null,
   "metadata": {},
   "outputs": [],
   "source": [
    "net3 = mnist.MNIST3()\n",
    "train_model.train_model(net3,trainloader,4,0.001)\n",
    "net3.eval()\n",
    "torch.save(net3.state_dict(), '../models/mnist-net3.pt')"
   ]
  },
  {
   "cell_type": "code",
   "execution_count": null,
   "metadata": {},
   "outputs": [],
   "source": [
    "net4 = mnist.MNIST4()\n",
    "train_model.train_model(net4,trainloader,4,0.001)\n",
    "net4.eval()\n",
    "torch.save(net4.state_dict(), '../models/mnist-net4.pt')"
   ]
  },
  {
   "cell_type": "markdown",
   "metadata": {},
   "source": [
    "Train inverted mnist models"
   ]
  },
  {
   "cell_type": "code",
   "execution_count": null,
   "metadata": {},
   "outputs": [],
   "source": [
    "netInv1 = mnist.MNIST1()\n",
    "train_model.train_model(netInv1,trainloaderInv,4,0.001)\n",
    "netInv1.eval()\n",
    "torch.save(netInv1.state_dict(), '../models/mnistInv-net1.pt')"
   ]
  },
  {
   "cell_type": "code",
   "execution_count": null,
   "metadata": {},
   "outputs": [],
   "source": [
    "netInv2 = mnist.MNIST2()\n",
    "train_model.train_model(netInv2,trainloaderInv,4,0.001)\n",
    "netInv2.eval()\n",
    "torch.save(netInv2.state_dict(), '../models/mnistInv-net2.pt')"
   ]
  },
  {
   "cell_type": "code",
   "execution_count": null,
   "metadata": {},
   "outputs": [],
   "source": [
    "netInv3 = mnist.MNIST3()\n",
    "train_model.train_model(netInv3,trainloaderInv,4,0.001)\n",
    "netInv3.eval()\n",
    "torch.save(netInv3.state_dict(), '../models/mnistInv-net3.pt')"
   ]
  },
  {
   "cell_type": "code",
   "execution_count": null,
   "metadata": {},
   "outputs": [],
   "source": [
    "netInv4 = mnist.MNIST4()\n",
    "train_model.train_model(netInv4,trainloaderInv,4,0.001)\n",
    "netInv4.eval()\n",
    "torch.save(netInv4.state_dict(), '../models/mnistInv-net4.pt')"
   ]
  },
  {
   "cell_type": "markdown",
   "metadata": {},
   "source": [
    "Train CIFAR nets"
   ]
  },
  {
   "cell_type": "code",
   "execution_count": null,
   "metadata": {},
   "outputs": [],
   "source": [
    "netCif1 = cifar.CIFAR1()\n",
    "train_model.train_model(netCif1,trainloaderCIFAR,4,0.001)\n",
    "netCif1.eval()\n",
    "torch.save(netCif1.state_dict(), '../models/cifar-net1.pt')"
   ]
  },
  {
   "cell_type": "code",
   "execution_count": null,
   "metadata": {},
   "outputs": [],
   "source": [
    "netCif2 = cifar.CIFAR2()\n",
    "train_model.train_model(netCif2,trainloaderCIFAR,4,0.001)\n",
    "netCif2.eval()\n",
    "torch.save(netCif2.state_dict(), '../models/cifar-net2.pt')"
   ]
  },
  {
   "cell_type": "markdown",
   "metadata": {},
   "source": [
    "Load the nets"
   ]
  },
  {
   "cell_type": "code",
   "execution_count": null,
   "metadata": {},
   "outputs": [],
   "source": [
    "net1 = mnist.MNIST1()\n",
    "net1.load_state_dict(torch.load('../models/mnist-net1.pt'))\n",
    "net1.eval()\n",
    "\n",
    "net2 = mnist.MNIST2()\n",
    "net2.load_state_dict(torch.load('../models/mnist-net2.pt'))\n",
    "net2.eval()\n",
    "\n",
    "net3 = mnist.MNIST3()\n",
    "net3.load_state_dict(torch.load('../models/mnist-net3.pt'))\n",
    "net3.eval()\n",
    "\n",
    "net4 = mnist.MNIST4()\n",
    "net4.load_state_dict(torch.load('../models/mnist-net4.pt'))\n",
    "net4.eval()\n",
    "\n",
    "netInv1 = mnist.MNIST1()\n",
    "netInv1.load_state_dict(torch.load('../models/mnistInv-net1.pt'))\n",
    "netInv1.eval()\n",
    "\n",
    "netInv2 = mnist.MNIST2()\n",
    "netInv2.load_state_dict(torch.load('../models/mnistInv-net2.pt'))\n",
    "netInv2.eval()\n",
    "\n",
    "netInv3 = mnist.MNIST3()\n",
    "netInv3.load_state_dict(torch.load('../models/mnistInv-net3.pt'))\n",
    "netInv3.eval()\n",
    "\n",
    "netInv4 = mnist.MNIST4()\n",
    "netInv4.load_state_dict(torch.load('../models/mnistInv-net4.pt'))\n",
    "netInv4.eval()\n",
    "\n",
    "netCif1 = cifar.CIFAR1()\n",
    "netCif1.load_state_dict(torch.load('../models/cifar-net1.pt'))\n",
    "netCif1.eval()\n",
    "\n",
    "netCif2 = cifar.CIFAR2()\n",
    "netCif2.load_state_dict(torch.load('../models/cifar-net2.pt'))\n",
    "netCif2.eval();"
   ]
  },
  {
   "cell_type": "markdown",
   "metadata": {},
   "source": [
    "Test the nets"
   ]
  },
  {
   "cell_type": "code",
   "execution_count": null,
   "metadata": {},
   "outputs": [],
   "source": [
    "nets = [net1, net2, net3, net4]\n",
    "for i,net in enumerate(nets,1):\n",
    "    print('Result net%d :' % (i))\n",
    "    test_model.test_model(net, testloader)"
   ]
  },
  {
   "cell_type": "code",
   "execution_count": null,
   "metadata": {},
   "outputs": [],
   "source": [
    "nets = [netInv1, netInv2, netInv3, netInv4]\n",
    "for i,net in enumerate(nets,1):\n",
    "    print('Result net%d :' % (i))\n",
    "    test_model.test_model(net, testloaderInv)"
   ]
  },
  {
   "cell_type": "code",
   "execution_count": null,
   "metadata": {},
   "outputs": [],
   "source": [
    "nets = [netCif1, netCif2]\n",
    "for i,net in enumerate(nets,1):\n",
    "    print('Result net%d :' % (i))\n",
    "    test_model.test_model(net, testloaderCIFAR)"
   ]
  }
 ],
 "metadata": {
  "kernelspec": {
   "display_name": "Python 3.9.7 ('.venv': venv)",
   "language": "python",
   "name": "python3"
  },
  "language_info": {
   "codemirror_mode": {
    "name": "ipython",
    "version": 3
   },
   "file_extension": ".py",
   "mimetype": "text/x-python",
   "name": "python",
   "nbconvert_exporter": "python",
   "pygments_lexer": "ipython3",
   "version": "3.9.7"
  },
  "orig_nbformat": 4,
  "vscode": {
   "interpreter": {
    "hash": "643057c40023ccb10f22473f9d4df0fcead4ec60ae2f389010253986399efcb1"
   }
  }
 },
 "nbformat": 4,
 "nbformat_minor": 2
}
