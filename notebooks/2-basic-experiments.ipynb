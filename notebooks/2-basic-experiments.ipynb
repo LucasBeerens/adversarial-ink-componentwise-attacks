{
 "cells": [
  {
   "cell_type": "code",
   "execution_count": null,
   "metadata": {},
   "outputs": [],
   "source": [
    "import sys\n",
    "import os \n",
    "src_dir = os.path.join(os.getcwd(), '..', 'src')\n",
    "sys.path.append(src_dir)"
   ]
  },
  {
   "cell_type": "code",
   "execution_count": null,
   "metadata": {},
   "outputs": [],
   "source": [
    "import torch\n",
    "import numpy as np\n",
    "import seaborn as sns\n",
    "import torchattacks as ta\n",
    "\n",
    "from utils import vis_attack as vis\n",
    "from models import mnist\n",
    "from data_attacks.alg1 import alg1_0 as a1\n",
    "from data_attacks.alg1 import alg1_1 as a11\n",
    "from data_attacks.alg2 import alg2_0 as a2\n",
    "from data_attacks.alg3 import alg3_0 as a3\n",
    "from load_data import load_mnist\n",
    "from utils import test_attack\n",
    "from utils import att\n",
    "from data_attacks import attackAny"
   ]
  },
  {
   "cell_type": "code",
   "execution_count": null,
   "metadata": {},
   "outputs": [],
   "source": [
    "net1 = mnist.MNIST1()\n",
    "net1.load_state_dict(torch.load('../models/mnist-net1.pt'))\n",
    "\n",
    "net2 = mnist.MNIST2()\n",
    "net2.load_state_dict(torch.load('../models/mnist-net2.pt'))\n",
    "\n",
    "net3 = mnist.MNIST3()\n",
    "net3.load_state_dict(torch.load('../models/mnist-net3.pt'))\n",
    "\n",
    "net4 = mnist.MNIST4()\n",
    "net4.load_state_dict(torch.load('../models/mnist-net4.pt'));"
   ]
  },
  {
   "cell_type": "code",
   "execution_count": null,
   "metadata": {},
   "outputs": [],
   "source": [
    "with torch.no_grad():\n",
    "    id = 26\n",
    "    net = net4\n",
    "    correct = load_mnist.testSetCorrect(net,50)\n",
    "    vis.vis_attack(net,correct[id][0],a11.Al0(),1)"
   ]
  },
  {
   "cell_type": "code",
   "execution_count": null,
   "metadata": {},
   "outputs": [],
   "source": [
    "n=30\n",
    "res1 = test_attack.specific(net1,load_mnist.testSetCorrect(net1,n),a11.Al0())\n",
    "res2 = test_attack.any(net1,load_mnist.testSetCorrect(net1,9*n),attackAny.Any(a11.Al0()))"
   ]
  },
  {
   "cell_type": "code",
   "execution_count": null,
   "metadata": {},
   "outputs": [],
   "source": [
    "res = np.hstack((res1,res2))\n",
    "sns.set(rc={\"figure.figsize\":(20, 10)})\n",
    "ax = sns.ecdfplot(res,complementary=True)\n",
    "ax.set(xlabel='eps');"
   ]
  },
  {
   "cell_type": "code",
   "execution_count": null,
   "metadata": {},
   "outputs": [],
   "source": [
    "id = 26\n",
    "net = net1\n",
    "correct = load_mnist.testSetCorrect(net,50)\n",
    "img = correct[id][0]\n",
    "atk = ta.PGDL2(net, eps=0.8, alpha=0.1, steps=400)\n",
    "vis.vis_attack(net,correct[id][0],att.Att(atk))"
   ]
  },
  {
   "cell_type": "code",
   "execution_count": null,
   "metadata": {},
   "outputs": [],
   "source": [
    "n=500\n",
    "net = net2\n",
    "correct = load_mnist.testSetCorrect(net,n)\n",
    "\n",
    "atk1 = ta.PGDL2(net, eps=0.1, alpha=0.1, steps=4)\n",
    "\n",
    "res1 = test_attack.any(net,correct,att.Att(atk1))\n",
    "res2 = test_attack.any(net,correct,attackAny.Any(a11.Al0()))\n",
    "\n",
    "res = np.hstack((res1,res2))"
   ]
  },
  {
   "cell_type": "code",
   "execution_count": null,
   "metadata": {},
   "outputs": [],
   "source": [
    "sns.set(rc={\"figure.figsize\":(20, 10)})\n",
    "ax = sns.ecdfplot(res,complementary=True)\n",
    "ax.set(xlabel='eps');"
   ]
  },
  {
   "cell_type": "code",
   "execution_count": null,
   "metadata": {},
   "outputs": [],
   "source": [
    "n=50\n",
    "net = net1\n",
    "correct = load_mnist.testSetCorrect(net,n)\n",
    "\n",
    "atk1 = ta.PGDL2(net, eps=0.1, alpha=0.1, steps=4)\n",
    "atk2 = ta.DeepFool(net, steps=10)\n",
    "res1 = test_attack.any(net,correct,att.Att(atk1))\n",
    "res2 = test_attack.any(net,correct,att.Att(atk2))\n",
    "res3 = test_attack.any(net,correct,attackAny.Any(a11.Al0()))\n",
    "\n",
    "res = np.hstack((res1,res2, res3))"
   ]
  },
  {
   "cell_type": "code",
   "execution_count": null,
   "metadata": {},
   "outputs": [],
   "source": [
    "sns.set(rc={\"figure.figsize\":(20, 10)})\n",
    "ax = sns.ecdfplot(res,complementary=True)\n",
    "ax.set(xlabel='eps');"
   ]
  }
 ],
 "metadata": {
  "kernelspec": {
   "display_name": "Python 3.9.7 ('.venv': venv)",
   "language": "python",
   "name": "python3"
  },
  "language_info": {
   "codemirror_mode": {
    "name": "ipython",
    "version": 3
   },
   "file_extension": ".py",
   "mimetype": "text/x-python",
   "name": "python",
   "nbconvert_exporter": "python",
   "pygments_lexer": "ipython3",
   "version": "3.9.7"
  },
  "orig_nbformat": 4,
  "vscode": {
   "interpreter": {
    "hash": "643057c40023ccb10f22473f9d4df0fcead4ec60ae2f389010253986399efcb1"
   }
  }
 },
 "nbformat": 4,
 "nbformat_minor": 2
}
