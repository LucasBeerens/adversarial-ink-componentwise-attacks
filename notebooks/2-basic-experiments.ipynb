{
 "cells": [
  {
   "cell_type": "code",
   "execution_count": 1,
   "metadata": {},
   "outputs": [],
   "source": [
    "import sys\n",
    "import os \n",
    "src_dir = os.path.join(os.getcwd(), '..', 'src')\n",
    "sys.path.append(src_dir)"
   ]
  },
  {
   "cell_type": "code",
   "execution_count": 2,
   "metadata": {},
   "outputs": [],
   "source": [
    "from data_attacks.alg1 import alg1_0 as a1\n",
    "import torch\n",
    "import torchvision\n",
    "import torchvision.transforms as transforms\n",
    "import matplotlib.pyplot as plt\n",
    "from models import mnist"
   ]
  },
  {
   "cell_type": "code",
   "execution_count": 3,
   "metadata": {},
   "outputs": [],
   "source": [
    "transform = transforms.ToTensor()\n",
    "\n",
    "trainset = torchvision.datasets.MNIST(root='../data', train=True, download=True, transform=transform)\n",
    "trainloader = torch.utils.data.DataLoader(trainset, shuffle=True, batch_size=50,num_workers=6)\n",
    "\n",
    "testset = torchvision.datasets.MNIST(root='../data', train=False, download=True, transform=transform)\n",
    "testloader = torch.utils.data.DataLoader(testset, shuffle=False, batch_size=50, num_workers=6)"
   ]
  },
  {
   "cell_type": "code",
   "execution_count": 4,
   "metadata": {},
   "outputs": [
    {
     "data": {
      "text/plain": [
       "MNIST2(\n",
       "  (fc1): Linear(in_features=784, out_features=100, bias=True)\n",
       "  (fc2): Linear(in_features=100, out_features=10, bias=True)\n",
       ")"
      ]
     },
     "execution_count": 4,
     "metadata": {},
     "output_type": "execute_result"
    }
   ],
   "source": [
    "net2 = mnist.MNIST2()\n",
    "net2.load_state_dict(torch.load('../models/mnist-net2.pt'))\n",
    "net2.eval()"
   ]
  },
  {
   "cell_type": "code",
   "execution_count": 6,
   "metadata": {},
   "outputs": [
    {
     "ename": "AttributeError",
     "evalue": "module 'torch' has no attribute 'tensorenp'",
     "output_type": "error",
     "traceback": [
      "\u001b[0;31m---------------------------------------------------------------------------\u001b[0m",
      "\u001b[0;31mAttributeError\u001b[0m                            Traceback (most recent call last)",
      "\u001b[1;32m/home/s2229207/Documents/Study/ExtendedProject/Code/Componentwise-BE-for-NN-py/notebooks/2-basic-experiments.ipynb Cell 5'\u001b[0m in \u001b[0;36m<cell line: 5>\u001b[0;34m()\u001b[0m\n\u001b[1;32m      <a href='vscode-notebook-cell:/home/s2229207/Documents/Study/ExtendedProject/Code/Componentwise-BE-for-NN-py/notebooks/2-basic-experiments.ipynb#ch0000004?line=2'>3</a>\u001b[0m img, label \u001b[39m=\u001b[39m testset[\u001b[39mid\u001b[39m]\n\u001b[1;32m      <a href='vscode-notebook-cell:/home/s2229207/Documents/Study/ExtendedProject/Code/Componentwise-BE-for-NN-py/notebooks/2-basic-experiments.ipynb#ch0000004?line=3'>4</a>\u001b[0m target \u001b[39m=\u001b[39m \u001b[39m3\u001b[39m\n\u001b[0;32m----> <a href='vscode-notebook-cell:/home/s2229207/Documents/Study/ExtendedProject/Code/Componentwise-BE-for-NN-py/notebooks/2-basic-experiments.ipynb#ch0000004?line=4'>5</a>\u001b[0m newImg, eps \u001b[39m=\u001b[39m a1\u001b[39m.\u001b[39;49mattack(net2,img,target)\n\u001b[1;32m      <a href='vscode-notebook-cell:/home/s2229207/Documents/Study/ExtendedProject/Code/Componentwise-BE-for-NN-py/notebooks/2-basic-experiments.ipynb#ch0000004?line=5'>6</a>\u001b[0m figure\u001b[39m.\u001b[39madd_subplot(\u001b[39m1\u001b[39m, \u001b[39m2\u001b[39m, \u001b[39m1\u001b[39m)\n\u001b[1;32m      <a href='vscode-notebook-cell:/home/s2229207/Documents/Study/ExtendedProject/Code/Componentwise-BE-for-NN-py/notebooks/2-basic-experiments.ipynb#ch0000004?line=6'>7</a>\u001b[0m plt\u001b[39m.\u001b[39maxis(\u001b[39m\"\u001b[39m\u001b[39moff\u001b[39m\u001b[39m\"\u001b[39m)\n",
      "File \u001b[0;32m~/Documents/Study/ExtendedProject/Code/Componentwise-BE-for-NN-py/notebooks/../src/data_attacks/alg1/alg1_0.py:38\u001b[0m, in \u001b[0;36mattack\u001b[0;34m(net, img, cl)\u001b[0m\n\u001b[1;32m     35\u001b[0m dy \u001b[39m=\u001b[39m val \u001b[39m-\u001b[39m output\n\u001b[1;32m     36\u001b[0m dx \u001b[39m=\u001b[39m pi \u001b[39m@\u001b[39m dy\n\u001b[0;32m---> 38\u001b[0m \u001b[39mreturn\u001b[39;00m scale\u001b[39m.\u001b[39;49mscale(net,img,dx,cl)\n",
      "File \u001b[0;32m~/Documents/Study/ExtendedProject/Code/Componentwise-BE-for-NN-py/notebooks/../src/utils/scaleAttack.py:12\u001b[0m, in \u001b[0;36mscale\u001b[0;34m(net, img, attack, cl, n)\u001b[0m\n\u001b[1;32m     10\u001b[0m \u001b[39mfor\u001b[39;00m i \u001b[39min\u001b[39;00m \u001b[39mrange\u001b[39m(\u001b[39m2\u001b[39m,n\u001b[39m+\u001b[39m\u001b[39m1\u001b[39m):\n\u001b[1;32m     11\u001b[0m     xNew \u001b[39m=\u001b[39m x \u001b[39m+\u001b[39m  a \u001b[39m*\u001b[39m attack \u001b[39m*\u001b[39m ratio\n\u001b[0;32m---> 12\u001b[0m     newImg \u001b[39m=\u001b[39m torch\u001b[39m.\u001b[39;49mtensorenp\u001b[39m.\u001b[39mreshape(xNew, imShape)\n\u001b[1;32m     13\u001b[0m     outputs \u001b[39m=\u001b[39m net(newImg)\n\u001b[1;32m     14\u001b[0m     _, predicted \u001b[39m=\u001b[39m torch\u001b[39m.\u001b[39mmax(outputs\u001b[39m.\u001b[39mdata,\u001b[39m1\u001b[39m)\n",
      "\u001b[0;31mAttributeError\u001b[0m: module 'torch' has no attribute 'tensorenp'"
     ]
    },
    {
     "data": {
      "text/plain": [
       "<Figure size 576x576 with 0 Axes>"
      ]
     },
     "metadata": {},
     "output_type": "display_data"
    }
   ],
   "source": [
    "figure = plt.figure(figsize=(8, 8))\n",
    "id = 0\n",
    "img, label = testset[id]\n",
    "target = 3\n",
    "newImg, eps = a1.attack(net2,img,target)\n",
    "figure.add_subplot(1, 2, 1)\n",
    "plt.axis(\"off\")\n",
    "plt.imshow(img.squeeze(), cmap=\"gray\")\n",
    "figure.add_subplot(1, 2, 2)\n",
    "plt.axis(\"off\")\n",
    "plt.imshow(newImg.squeeze(), cmap=\"gray\")\n",
    "plt.show()"
   ]
  }
 ],
 "metadata": {
  "kernelspec": {
   "display_name": "Python 3.9.7 ('.venv': venv)",
   "language": "python",
   "name": "python3"
  },
  "language_info": {
   "codemirror_mode": {
    "name": "ipython",
    "version": 3
   },
   "file_extension": ".py",
   "mimetype": "text/x-python",
   "name": "python",
   "nbconvert_exporter": "python",
   "pygments_lexer": "ipython3",
   "version": "3.9.7"
  },
  "orig_nbformat": 4,
  "vscode": {
   "interpreter": {
    "hash": "643057c40023ccb10f22473f9d4df0fcead4ec60ae2f389010253986399efcb1"
   }
  }
 },
 "nbformat": 4,
 "nbformat_minor": 2
}
