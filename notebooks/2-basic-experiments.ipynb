{
 "cells": [
  {
   "cell_type": "code",
   "execution_count": null,
   "metadata": {},
   "outputs": [],
   "source": [
    "import sys\n",
    "import os \n",
    "src_dir = os.path.join(os.getcwd(), '..', 'src')\n",
    "sys.path.append(src_dir)"
   ]
  },
  {
   "cell_type": "code",
   "execution_count": null,
   "metadata": {},
   "outputs": [],
   "source": [
    "import torch\n",
    "import numpy as np\n",
    "import seaborn as sns\n",
    "import pandas as pd\n",
    "import torchattacks as ta\n",
    "\n",
    "from models import mnist, cifar\n",
    "from data_attacks import alg1, alg2, alg3, attackAny\n",
    "from load_data import load_mnist, load_mnist_inv, load_cifar\n",
    "from utils import test_attack, att\n",
    "from utils import vis_attack as vis"
   ]
  },
  {
   "cell_type": "code",
   "execution_count": null,
   "metadata": {},
   "outputs": [],
   "source": [
    "net1 = mnist.MNIST1()\n",
    "net1.load_state_dict(torch.load('../models/mnist-net1.pt'))\n",
    "net1.eval()\n",
    "\n",
    "net2 = mnist.MNIST2()\n",
    "net2.load_state_dict(torch.load('../models/mnist-net2.pt'))\n",
    "net2.eval()\n",
    "\n",
    "net3 = mnist.MNIST3()\n",
    "net3.load_state_dict(torch.load('../models/mnist-net3.pt'))\n",
    "net3.eval()\n",
    "\n",
    "net4 = mnist.MNIST4()\n",
    "net4.load_state_dict(torch.load('../models/mnist-net4.pt'))\n",
    "net4.eval()\n",
    "\n",
    "netInv1 = mnist.MNIST1()\n",
    "netInv1.load_state_dict(torch.load('../models/mnistInv-net1.pt'))\n",
    "netInv1.eval()\n",
    "\n",
    "netInv2 = mnist.MNIST2()\n",
    "netInv2.load_state_dict(torch.load('../models/mnistInv-net2.pt'))\n",
    "netInv2.eval()\n",
    "\n",
    "netInv3 = mnist.MNIST3()\n",
    "netInv3.load_state_dict(torch.load('../models/mnistInv-net3.pt'))\n",
    "netInv3.eval()\n",
    "\n",
    "netInv4 = mnist.MNIST4()\n",
    "netInv4.load_state_dict(torch.load('../models/mnistInv-net4.pt'))\n",
    "netInv4.eval()\n",
    "\n",
    "netCif1 = cifar.CIFAR1()\n",
    "netCif1.load_state_dict(torch.load('../models/cifar-net1.pt'))\n",
    "netCif1.eval()\n",
    "\n",
    "netCif2 = cifar.CIFAR2()\n",
    "netCif2.load_state_dict(torch.load('../models/cifar-net2.pt'))\n",
    "netCif2.eval();"
   ]
  },
  {
   "cell_type": "code",
   "execution_count": null,
   "metadata": {},
   "outputs": [],
   "source": [
    "with torch.no_grad():\n",
    "    id = 3\n",
    "    net = net4\n",
    "    im = load_mnist.testSetCorrect(net,id+1)[id][0]\n",
    "    al1 = alg1.Al1()\n",
    "    al2 = alg2.Al1(disp=True, a=0.1)\n",
    "    al3 = alg3.Al1(disp=True, a=0.1)\n",
    "    _,eps1 = al1(net,im,3)\n",
    "    _,eps2 = al2(net,im,3)\n",
    "    _,eps3 = al3(net,im,3)\n",
    "    print((eps1,eps2,eps3))"
   ]
  },
  {
   "cell_type": "code",
   "execution_count": null,
   "metadata": {},
   "outputs": [],
   "source": [
    "with torch.no_grad():\n",
    "    id = 60\n",
    "    net = net2\n",
    "    im = load_mnist.testSetCorrect(net,id+1)[id][0]\n",
    "    vis.vis_attack(net,im,[alg1.Al1(),alg2.Al1(),alg3.Al1()],name='num_comp8')"
   ]
  },
  {
   "cell_type": "code",
   "execution_count": null,
   "metadata": {},
   "outputs": [],
   "source": [
    "n=10\n",
    "net = net2\n",
    "correct = load_mnist.testSetCorrect(net,n)\n",
    "res1 = test_attack.specific(net,correct,alg1.Al1())\n",
    "res2 = test_attack.specific(net,correct,alg2.Al1())\n",
    "res3 = test_attack.specific(net,correct,alg3.Al1())"
   ]
  },
  {
   "cell_type": "code",
   "execution_count": null,
   "metadata": {},
   "outputs": [],
   "source": [
    "names = ['Alg1', 'Alg2', 'Alg3']\n",
    "res = pd.DataFrame(np.hstack((res1,res2,res3)),columns = names)\n",
    "res['its'] = res.index\n",
    "dfm = res.melt('its', var_name='Algorithm', value_name='eps')"
   ]
  },
  {
   "cell_type": "code",
   "execution_count": null,
   "metadata": {},
   "outputs": [],
   "source": [
    "sns.set(rc={\"figure.figsize\":(20, 10)})\n",
    "sns.set(font_scale=2)\n",
    "ax = sns.ecdfplot(data=dfm,x='eps',hue='Algorithm',complementary=True)\n",
    "ax.set(xlabel='eps')\n",
    "fig = ax.get_figure()\n",
    "fig.savefig('../results/plotComp1', bbox_inches='tight')"
   ]
  },
  {
   "cell_type": "code",
   "execution_count": null,
   "metadata": {},
   "outputs": [],
   "source": [
    "sns.set(font_scale=1)\n",
    "with torch.no_grad():\n",
    "    id = 0\n",
    "    net = net2\n",
    "    im = load_mnist.testSetCorrect(net,id+1)[id][0]\n",
    "    vis.vis_attack(net,im,[alg3.Al1(type=0),alg3.Al1(type=1),alg3.Al1(type=2)],name='num_comp_types')"
   ]
  },
  {
   "cell_type": "code",
   "execution_count": null,
   "metadata": {},
   "outputs": [],
   "source": [
    "id = 60\n",
    "net = net2\n",
    "load_mnist.testSetCorrect(net,id+1)[id][1]"
   ]
  },
  {
   "cell_type": "code",
   "execution_count": null,
   "metadata": {},
   "outputs": [],
   "source": [
    "sns.set(font_scale=1)\n",
    "net = net2\n",
    "im = load_mnist.testSetCorrect(net,id+1)[id][0]\n",
    "atk1 = ta.PGDL2(net, eps=0.1, alpha=0.1, steps=4)\n",
    "atk2 = ta.DeepFool(net, steps=10)\n",
    "vis.vis_attack(net,im,[attackAny.Any(alg2.Al1()),att.Att(atk1),att.Att(atk2)],targeted=False,name='num_comp_algs8')"
   ]
  },
  {
   "cell_type": "code",
   "execution_count": null,
   "metadata": {},
   "outputs": [],
   "source": [
    "sns.set(font_scale=1)\n",
    "with torch.no_grad():\n",
    "    net = net2\n",
    "    im = load_mnist.testSetCorrect(net,id+1)[id][0]\n",
    "    vis.vis_attack(net,im,[alg2.Al1(),alg3.Al1(type=2)],name='num_comp_types3')"
   ]
  },
  {
   "cell_type": "code",
   "execution_count": null,
   "metadata": {},
   "outputs": [],
   "source": [
    "n=10\n",
    "net = net2\n",
    "correct = load_mnist.testSetCorrect(net,n)\n",
    "res1 = test_attack.specific(net,correct,alg3.Al1(type=0))\n",
    "res2 = test_attack.specific(net,correct,alg3.Al1(type=1))\n",
    "res3 = test_attack.specific(net,correct,alg3.Al1(type=2))"
   ]
  },
  {
   "cell_type": "code",
   "execution_count": null,
   "metadata": {},
   "outputs": [],
   "source": [
    "names = ['0', '1', '2']\n",
    "res = pd.DataFrame(np.hstack((res1,res2,res3)),columns = names)\n",
    "res['its'] = res.index\n",
    "dfm = res.melt('its', var_name='Algorithm 3 with type', value_name='eps')"
   ]
  },
  {
   "cell_type": "code",
   "execution_count": null,
   "metadata": {},
   "outputs": [],
   "source": [
    "sns.set(rc={\"figure.figsize\":(20, 10)})\n",
    "sns.set(font_scale=2)\n",
    "ax = sns.ecdfplot(data=dfm,x='eps',hue='Algorithm 3 with type',complementary=True)\n",
    "ax.set(xlabel='eps')\n",
    "fig = ax.get_figure()\n",
    "fig.savefig('../results/plotCompTypes', bbox_inches='tight')"
   ]
  },
  {
   "cell_type": "code",
   "execution_count": null,
   "metadata": {},
   "outputs": [],
   "source": [
    "sns.set(font_scale=1)\n",
    "with torch.no_grad():\n",
    "    id = 6\n",
    "    net = netInv2\n",
    "    im = load_mnist_inv.testSetCorrect(net,id+1)[id][0]\n",
    "    vis.vis_attack(net,im,[alg3.Al1(),alg3.Al1(type=2),alg3.Al1(tolerance=1),alg3.Al1(type=1,tolerance=1),alg3.Al1(type=2,tolerance=1),alg1.Al1()],name='num_comp_tolerance2Inv')"
   ]
  },
  {
   "cell_type": "code",
   "execution_count": null,
   "metadata": {},
   "outputs": [],
   "source": [
    "n=10\n",
    "net = net2\n",
    "correct = load_mnist.testSetCorrect(net,n)\n",
    "res1 = test_attack.specific(net,correct,alg3.Al1(type=0))\n",
    "res2 = test_attack.specific(net,correct,alg3.Al1(type=0,tolerance=1))\n",
    "res3 = test_attack.specific(net,correct,alg3.Al1(type=2))\n",
    "res4 = test_attack.specific(net,correct,alg3.Al1(type=2, tolerance=1))"
   ]
  },
  {
   "cell_type": "code",
   "execution_count": null,
   "metadata": {},
   "outputs": [],
   "source": [
    "res5 = test_attack.specific(net,correct,alg3.Al1(type=1, tolerance=1))"
   ]
  },
  {
   "cell_type": "code",
   "execution_count": null,
   "metadata": {},
   "outputs": [],
   "source": [
    "names = ['Alg3(0,0)', 'Alg3(0,2)', 'Alg3(1,0)', 'Alg3(1,1)', 'Alg3(1,2)']\n",
    "res = pd.DataFrame(np.hstack((res1,res3,res2,res5,res4)),columns = names)\n",
    "res['its'] = res.index\n",
    "dfm = res.melt('its', var_name='Algorithm', value_name='eps')"
   ]
  },
  {
   "cell_type": "code",
   "execution_count": null,
   "metadata": {},
   "outputs": [],
   "source": [
    "sns.set(rc={\"figure.figsize\":(20, 10)})\n",
    "sns.set(font_scale=2)\n",
    "ax = sns.ecdfplot(data=dfm,x='eps',hue='Algorithm',complementary=True)\n",
    "ax.set(xlabel='eps')\n",
    "fig = ax.get_figure()\n",
    "fig.savefig('../results/plotCompTolerance', bbox_inches='tight')"
   ]
  },
  {
   "cell_type": "code",
   "execution_count": null,
   "metadata": {},
   "outputs": [],
   "source": [
    "n=10\n",
    "correct2 = load_mnist.testSetCorrect(net2,100+n)[-n:]\n",
    "correct4 = load_mnist.testSetCorrect(net4,n)\n",
    "#res1 = test_attack.specific(net2,correct2,alg2.Al0(num=False))\n",
    "#res2 = test_attack.specific(net2,correct2,alg2.Al0(num=True))\n",
    "res3 = test_attack.specific(net2,correct2,alg3.Al0(num=False))\n",
    "#res4 = test_attack.specific(net2,correct2,alg3.Al0(num=True))\n",
    "#res5 = test_attack.specific(net4,correct4,alg2.Al0(num=False))\n",
    "#res6 = test_attack.specific(net4,correct4,alg2.Al0(num=True))\n",
    "#res7 = test_attack.specific(net4,correct4,alg3.Al0(num=False))\n",
    "#res8 = test_attack.specific(net4,correct4,alg3.Al0(num=True))"
   ]
  },
  {
   "cell_type": "code",
   "execution_count": null,
   "metadata": {},
   "outputs": [],
   "source": [
    "names = ['Net1 alg2', 'Net1 alg2 num', 'Net1 alg3', 'Net1 alg3 num', 'Net2 alg2', 'Net2 alg2 num', 'Net2 alg3', 'Net2 alg3 num']\n",
    "results = np.hstack((res1,res2,res3,res4,res5,res6,res7,res8))\n",
    "np.save('results',results)\n",
    "res = pd.DataFrame(results,columns = names)\n",
    "res['its'] = res.index\n",
    "dfm = res.melt('its', var_name='Algorithm', value_name='eps')"
   ]
  },
  {
   "cell_type": "code",
   "execution_count": null,
   "metadata": {},
   "outputs": [],
   "source": [
    "results = np.load('results.npy')\n",
    "names = ['Net1 alg2', 'Net1 alg2 num', 'Net1 alg3', 'Net1 alg3 num', 'Net3 alg2', 'Net3 alg2 num', 'Net3 alg3', 'Net3 alg3 num']\n",
    "res = pd.DataFrame(results,columns = names)\n",
    "res['its'] = res.index\n",
    "dfm = res.melt('its', var_name='Algorithm', value_name='eps')"
   ]
  },
  {
   "cell_type": "code",
   "execution_count": null,
   "metadata": {},
   "outputs": [],
   "source": [
    "sns.set(rc={\"figure.figsize\":(20, 10)})\n",
    "sns.set(font_scale=2)\n",
    "ax = sns.ecdfplot(data=dfm,x='eps',hue='Algorithm',complementary=True)\n",
    "ax.set(xlabel='Relative normwise error')\n",
    "fig = ax.get_figure()\n",
    "fig.savefig('../results/plotNumerical2', bbox_inches='tight')"
   ]
  },
  {
   "cell_type": "code",
   "execution_count": null,
   "metadata": {},
   "outputs": [],
   "source": [
    "with torch.no_grad():\n",
    "    id = 2\n",
    "    net = netCif2\n",
    "    correct = load_cifar.testSetCorrect(net,id+1)\n",
    "    vis.vis_attack(net,correct[id][0],[alg2.Al0()])"
   ]
  },
  {
   "cell_type": "code",
   "execution_count": null,
   "metadata": {},
   "outputs": [],
   "source": [
    "with torch.no_grad():\n",
    "    id = 2\n",
    "    net = netCif2\n",
    "    correct = load_cifar.testSetCorrect(net,id+1)\n",
    "    vis.vis_attack(net,correct[id][0],[alg3.Al1(),alg3.Al1(type=2),alg3.Al1(tolerance=1),alg3.Al1(type=1,tolerance=1),alg2.Al0()],name='cifarComp')"
   ]
  },
  {
   "cell_type": "code",
   "execution_count": null,
   "metadata": {},
   "outputs": [],
   "source": [
    "id = 26\n",
    "net = net1\n",
    "correct = load_mnist.testSetCorrect(net,50)\n",
    "img = correct[id][0]\n",
    "atk = ta.PGDL2(net, eps=0.8, alpha=0.1, steps=400)\n",
    "vis.vis_attack(net,correct[id][0],att.Att(atk))"
   ]
  },
  {
   "cell_type": "code",
   "execution_count": null,
   "metadata": {},
   "outputs": [],
   "source": [
    "n=100\n",
    "net = net2\n",
    "correct = load_mnist.testSetCorrect(net,n)\n",
    "\n",
    "atk1 = ta.PGDL2(net, eps=0.1, alpha=0.1, steps=4)\n",
    "atk2 = ta.DeepFool(net, steps=10)\n",
    "res1 = test_attack.any(net,correct,att.Att(atk1))\n",
    "res2 = test_attack.any(net,correct,att.Att(atk2))\n",
    "res3 = test_attack.any(net,correct,attackAny.Any(alg2.Al1()))"
   ]
  },
  {
   "cell_type": "code",
   "execution_count": null,
   "metadata": {},
   "outputs": [],
   "source": [
    "names = ['PGDL2', 'Deep Fool', 'Alg2']\n",
    "res = pd.DataFrame(np.hstack((res1,res2,res3)),columns = names)\n",
    "res['its'] = res.index\n",
    "dfm = res.melt('its', var_name='Algorithm', value_name='eps')"
   ]
  },
  {
   "cell_type": "code",
   "execution_count": null,
   "metadata": {},
   "outputs": [],
   "source": [
    "sns.set(rc={\"figure.figsize\":(20, 10)})\n",
    "sns.set(font_scale=2)\n",
    "ax = sns.ecdfplot(data=dfm,x='eps',hue='Algorithm',complementary=True)\n",
    "ax.set(xlabel='Relative normwise error')\n",
    "fig = ax.get_figure()\n",
    "fig.savefig('../results/plotCompareOthers', bbox_inches='tight')"
   ]
  },
  {
   "cell_type": "code",
   "execution_count": null,
   "metadata": {},
   "outputs": [],
   "source": [
    "n=10\n",
    "correct2 = load_mnist.testSetCorrect(net2,n)\n",
    "correct3 = load_mnist.testSetCorrect(net3,n)\n",
    "correct4 = load_mnist.testSetCorrect(net4,n)\n",
    "\n",
    "res1 = test_attack.specific(net2,correct2,alg2.Al1())\n",
    "res2 = test_attack.specific(net2,correct2,alg3.Al1())\n",
    "res3 = test_attack.specific(net3,correct3,alg2.Al1())\n",
    "res4 = test_attack.specific(net3,correct3,alg3.Al1())\n",
    "res5 = test_attack.specific(net4,correct4,alg2.Al1())\n",
    "res6 = test_attack.specific(net4,correct4,alg3.Al1())"
   ]
  },
  {
   "cell_type": "code",
   "execution_count": null,
   "metadata": {},
   "outputs": [],
   "source": [
    "names = ['Net 1 alg2', 'Net 2 alg2', 'Net 3 alg2', 'Net 1 alg3', 'Net 2 alg3', 'Net 3 alg3']\n",
    "res = pd.DataFrame(np.hstack((res1,res3,res5,res2,res4,res6)),columns = names)\n",
    "np.save('resultsArch',res)\n",
    "res['its'] = res.index\n",
    "dfm = res.melt('its', var_name='Algorithm', value_name='eps')"
   ]
  },
  {
   "cell_type": "code",
   "execution_count": null,
   "metadata": {},
   "outputs": [],
   "source": [
    "sns.set(rc={\"figure.figsize\":(20, 10)})\n",
    "sns.set(font_scale=2)\n",
    "ax = sns.ecdfplot(data=dfm,x='eps',hue='Algorithm',complementary=True)\n",
    "ax.set(xlabel='Relative normwise error')\n",
    "fig = ax.get_figure()\n",
    "fig.savefig('../results/plotCompareArchitectures', bbox_inches='tight')"
   ]
  },
  {
   "cell_type": "code",
   "execution_count": null,
   "metadata": {},
   "outputs": [],
   "source": [
    "with torch.no_grad():\n",
    "    id = 6\n",
    "    net = net4\n",
    "    im = load_mnist.testSetCorrect(net,id+1)[id][0]\n",
    "    atk = alg2.Al1()"
   ]
  },
  {
   "cell_type": "code",
   "execution_count": null,
   "metadata": {},
   "outputs": [],
   "source": [
    "import matplotlib.pyplot as plt\n",
    "newIm, eps = atk(net,im,8)\n",
    "plt.axis(\"off\")\n",
    "plt.imshow(newIm.squeeze(),cmap='gray')"
   ]
  },
  {
   "cell_type": "code",
   "execution_count": null,
   "metadata": {},
   "outputs": [],
   "source": [
    "plt.axis(\"off\")\n",
    "plt.imshow(im.squeeze(),cmap='gray')"
   ]
  },
  {
   "cell_type": "code",
   "execution_count": null,
   "metadata": {},
   "outputs": [],
   "source": [
    "net(newIm)"
   ]
  }
 ],
 "metadata": {
  "kernelspec": {
   "display_name": "Python 3.9.7 ('.venv': venv)",
   "language": "python",
   "name": "python3"
  },
  "language_info": {
   "codemirror_mode": {
    "name": "ipython",
    "version": 3
   },
   "file_extension": ".py",
   "mimetype": "text/x-python",
   "name": "python",
   "nbconvert_exporter": "python",
   "pygments_lexer": "ipython3",
   "version": "3.9.7"
  },
  "orig_nbformat": 4,
  "vscode": {
   "interpreter": {
    "hash": "643057c40023ccb10f22473f9d4df0fcead4ec60ae2f389010253986399efcb1"
   }
  }
 },
 "nbformat": 4,
 "nbformat_minor": 2
}
