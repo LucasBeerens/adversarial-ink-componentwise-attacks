{
 "cells": [
  {
   "cell_type": "code",
   "execution_count": null,
   "metadata": {},
   "outputs": [],
   "source": [
    "import sys\n",
    "import os \n",
    "src_dir = os.path.join(os.getcwd(), '..', 'src')\n",
    "sys.path.append(src_dir)"
   ]
  },
  {
   "cell_type": "code",
   "execution_count": null,
   "metadata": {},
   "outputs": [],
   "source": [
    "import torch\n",
    "import numpy as np\n",
    "import seaborn as sns\n",
    "import torchattacks as ta\n",
    "\n",
    "from models import mnist, cifar\n",
    "from data_attacks import alg1, alg2, alg3, attackAny\n",
    "from load_data import load_mnist, load_mnist_inv, load_cifar\n",
    "from utils import test_attack, att\n",
    "from utils import vis_attack as vis"
   ]
  },
  {
   "cell_type": "code",
   "execution_count": null,
   "metadata": {},
   "outputs": [],
   "source": [
    "net1 = mnist.MNIST1()\n",
    "net1.load_state_dict(torch.load('../models/mnist-net1.pt'))\n",
    "net1.eval()\n",
    "\n",
    "net2 = mnist.MNIST2()\n",
    "net2.load_state_dict(torch.load('../models/mnist-net2.pt'))\n",
    "net2.eval()\n",
    "\n",
    "net3 = mnist.MNIST3()\n",
    "net3.load_state_dict(torch.load('../models/mnist-net3.pt'))\n",
    "net3.eval()\n",
    "\n",
    "net4 = mnist.MNIST4()\n",
    "net4.load_state_dict(torch.load('../models/mnist-net4.pt'))\n",
    "net4.eval()\n",
    "\n",
    "netInv1 = mnist.MNIST1()\n",
    "netInv1.load_state_dict(torch.load('../models/mnistInv-net1.pt'))\n",
    "netInv1.eval()\n",
    "\n",
    "netInv2 = mnist.MNIST2()\n",
    "netInv2.load_state_dict(torch.load('../models/mnistInv-net2.pt'))\n",
    "netInv2.eval()\n",
    "\n",
    "netInv3 = mnist.MNIST3()\n",
    "netInv3.load_state_dict(torch.load('../models/mnistInv-net3.pt'))\n",
    "netInv3.eval()\n",
    "\n",
    "netInv4 = mnist.MNIST4()\n",
    "netInv4.load_state_dict(torch.load('../models/mnistInv-net4.pt'))\n",
    "netInv4.eval()\n",
    "\n",
    "netCif1 = cifar.CIFAR1()\n",
    "netCif1.load_state_dict(torch.load('../models/cifar-net1.pt'))\n",
    "netCif1.eval()\n",
    "\n",
    "netCif2 = cifar.CIFAR2()\n",
    "netCif2.load_state_dict(torch.load('../models/cifar-net2.pt'))\n",
    "netCif2.eval();"
   ]
  },
  {
   "cell_type": "code",
   "execution_count": null,
   "metadata": {},
   "outputs": [],
   "source": [
    "with torch.no_grad():\n",
    "    id = 23\n",
    "    net = netCif2\n",
    "    correct = load_cifar.testSetCorrect(net,50)\n",
    "    vis.vis_attack(net,correct[id][0],attackAny.Any(alg3.Al1(n=1)))"
   ]
  },
  {
   "cell_type": "code",
   "execution_count": null,
   "metadata": {},
   "outputs": [],
   "source": [
    "n=10\n",
    "net = net4\n",
    "correct = load_mnist.testSetCorrect(net,n)\n",
    "res1 = test_attack.specific(net,correct,alg1.Al0(num=False))\n",
    "res2 = test_attack.specific(net,correct,alg1.Al0(num=True))"
   ]
  },
  {
   "cell_type": "code",
   "execution_count": null,
   "metadata": {},
   "outputs": [],
   "source": [
    "res = np.hstack((res1,res2))\n",
    "sns.set(rc={\"figure.figsize\":(20, 10)})\n",
    "ax = sns.ecdfplot(res,complementary=True)\n",
    "ax.set(xlabel='eps');"
   ]
  },
  {
   "cell_type": "code",
   "execution_count": null,
   "metadata": {},
   "outputs": [],
   "source": [
    "id = 26\n",
    "net = net1\n",
    "correct = load_mnist.testSetCorrect(net,50)\n",
    "img = correct[id][0]\n",
    "atk = ta.PGDL2(net, eps=0.8, alpha=0.1, steps=400)\n",
    "vis.vis_attack(net,correct[id][0],att.Att(atk))"
   ]
  },
  {
   "cell_type": "code",
   "execution_count": null,
   "metadata": {},
   "outputs": [],
   "source": [
    "n=500\n",
    "net = net2\n",
    "correct = load_mnist.testSetCorrect(net,n)\n",
    "\n",
    "atk1 = ta.PGDL2(net, eps=0.1, alpha=0.1, steps=4)\n",
    "\n",
    "res1 = test_attack.any(net,correct,att.Att(atk1))\n",
    "res2 = test_attack.any(net,correct,attackAny.Any(alg1.Al1()))\n",
    "\n",
    "res = np.hstack((res1,res2))"
   ]
  },
  {
   "cell_type": "code",
   "execution_count": null,
   "metadata": {},
   "outputs": [],
   "source": [
    "sns.set(rc={\"figure.figsize\":(20, 10)})\n",
    "ax = sns.ecdfplot(res,complementary=True)\n",
    "ax.set(xlabel='eps');"
   ]
  },
  {
   "cell_type": "code",
   "execution_count": null,
   "metadata": {},
   "outputs": [],
   "source": [
    "n=50\n",
    "net = net1\n",
    "correct = load_mnist.testSetCorrect(net,n)\n",
    "\n",
    "atk1 = ta.PGDL2(net, eps=0.1, alpha=0.1, steps=4)\n",
    "atk2 = ta.DeepFool(net, steps=10)\n",
    "res1 = test_attack.any(net,correct,att.Att(atk1))\n",
    "res2 = test_attack.any(net,correct,att.Att(atk2))\n",
    "res3 = test_attack.any(net,correct,attackAny.Any(alg1.Al1()))\n",
    "\n",
    "res = np.hstack((res1,res2, res3))"
   ]
  },
  {
   "cell_type": "code",
   "execution_count": null,
   "metadata": {},
   "outputs": [],
   "source": [
    "sns.set(rc={\"figure.figsize\":(20, 10)})\n",
    "ax = sns.ecdfplot(res,complementary=True)\n",
    "ax.set(xlabel='eps');"
   ]
  }
 ],
 "metadata": {
  "kernelspec": {
   "display_name": "Python 3.9.7 ('.venv': venv)",
   "language": "python",
   "name": "python3"
  },
  "language_info": {
   "codemirror_mode": {
    "name": "ipython",
    "version": 3
   },
   "file_extension": ".py",
   "mimetype": "text/x-python",
   "name": "python",
   "nbconvert_exporter": "python",
   "pygments_lexer": "ipython3",
   "version": "3.9.7"
  },
  "orig_nbformat": 4,
  "vscode": {
   "interpreter": {
    "hash": "643057c40023ccb10f22473f9d4df0fcead4ec60ae2f389010253986399efcb1"
   }
  }
 },
 "nbformat": 4,
 "nbformat_minor": 2
}
