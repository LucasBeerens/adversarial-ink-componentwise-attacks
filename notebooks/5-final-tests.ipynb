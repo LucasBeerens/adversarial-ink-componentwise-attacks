{
 "cells": [
  {
   "cell_type": "code",
   "execution_count": null,
   "metadata": {},
   "outputs": [],
   "source": [
    "import sys\n",
    "import os\n",
    "src_dir = os.path.join(os.getcwd(), '..', 'src')\n",
    "sys.path.append(src_dir)\n"
   ]
  },
  {
   "cell_type": "code",
   "execution_count": null,
   "metadata": {},
   "outputs": [],
   "source": [
    "import torch\n",
    "import numpy as np\n",
    "import seaborn as sns\n",
    "import pandas as pd\n",
    "import torchattacks as ta\n",
    "import matplotlib.pyplot as plt\n",
    "\n",
    "from models import mnist, cifar\n",
    "from data_attacks import alg1, alg2, alg3, attackAny, nothing\n",
    "from load_data import load_mnist, load_mnist_inv, load_cifar\n",
    "from utils import test_attack, att\n",
    "from utils import vis_attack as vis\n",
    "from utils import saveAttackResults as testSave\n",
    "from utils import analyse\n"
   ]
  },
  {
   "cell_type": "code",
   "execution_count": null,
   "metadata": {},
   "outputs": [],
   "source": [
    "net1 = mnist.MNIST1()\n",
    "net1.load_state_dict(torch.load('../models/mnist-net1.pt'))\n",
    "net1.eval()\n",
    "\n",
    "net2 = mnist.MNIST2()\n",
    "net2.load_state_dict(torch.load('../models/mnist-net2.pt'))\n",
    "net2.eval()\n",
    "\n",
    "net3 = mnist.MNIST3()\n",
    "net3.load_state_dict(torch.load('../models/mnist-net3.pt'))\n",
    "net3.eval()\n",
    "\n",
    "net4 = mnist.MNIST4()\n",
    "net4.load_state_dict(torch.load('../models/mnist-net4.pt'))\n",
    "net4.eval()\n",
    "\n",
    "netInv1 = mnist.MNIST1()\n",
    "netInv1.load_state_dict(torch.load('../models/mnistInv-net1.pt'))\n",
    "netInv1.eval()\n",
    "\n",
    "netInv2 = mnist.MNIST2()\n",
    "netInv2.load_state_dict(torch.load('../models/mnistInv-net2.pt'))\n",
    "netInv2.eval()\n",
    "\n",
    "netInv3 = mnist.MNIST3()\n",
    "netInv3.load_state_dict(torch.load('../models/mnistInv-net3.pt'))\n",
    "netInv3.eval()\n",
    "\n",
    "netInv4 = mnist.MNIST4()\n",
    "netInv4.load_state_dict(torch.load('../models/mnistInv-net4.pt'))\n",
    "netInv4.eval()\n",
    "\n",
    "netCif1 = cifar.CIFAR1()\n",
    "netCif1.load_state_dict(torch.load('../models/cifar-net1.pt'))\n",
    "netCif1.eval()\n",
    "\n",
    "netCif2 = cifar.CIFAR2()\n",
    "netCif2.load_state_dict(torch.load('../models/cifar-net2.pt'))\n",
    "netCif2.eval()\n"
   ]
  },
  {
   "cell_type": "code",
   "execution_count": null,
   "metadata": {},
   "outputs": [],
   "source": [
    "net = net2\n",
    "n = 1000\n",
    "data = load_mnist.testSetCorrect(net, n)\n",
    "\n",
    "imgs = np.load('../resultsNumpy/alg1Specific1000Net1_imgs.npy')\n",
    "epss = np.load('../resultsNumpy/alg1Specific1000Net1_epss.npy')\n",
    "analyse.table(data, epss)\n"
   ]
  },
  {
   "cell_type": "code",
   "execution_count": null,
   "metadata": {},
   "outputs": [],
   "source": [
    "names = ['alg2Specific100', 'alg3Specific100',\n",
    "         'alg4Specific100', 'alg1Specific100']\n",
    "epssLists = np.array([analyse.specificToAny(\n",
    "    np.load('../resultsNumpy/{}_epss.npy'.format(name))) for name in names])\n",
    "order = ['alg2', 'alg3', 'alg4', 'alg1']\n",
    "analyse.comparePerformance(\n",
    "    epssLists, order, 'PerformanceComparison1', styleOrder=order, palOrder=[3, 0, 1, 2])\n"
   ]
  },
  {
   "cell_type": "code",
   "execution_count": null,
   "metadata": {},
   "outputs": [],
   "source": [
    "net = net2\n",
    "n = 1000\n",
    "data = load_mnist.testSetCorrect(net, n)\n",
    "i = 3\n",
    "imgs = np.load('../resultsNumpy/alg{}Specific1000Net1_imgs.npy'.format(i))\n",
    "epss = np.load('../resultsNumpy/alg{}Specific1000Net1_epss.npy'.format(i))\n",
    "analyse.conditionNumberComponentwise(net, data, epss, imgs, 'conditionNumbersAlg3', type=1)\n"
   ]
  },
  {
   "cell_type": "code",
   "execution_count": null,
   "metadata": {},
   "outputs": [],
   "source": [
    "net = net2\n",
    "n = 992\n",
    "data = load_mnist.testSetCorrect(net, n)\n",
    "b1 = np.load('../resultsNumpy/alg4Specific1000Net1_imgs.npy')\n",
    "b2 = np.load('../resultsNumpy/alg4Specific1000Net1-part2_imgs.npy')\n",
    "a1 = np.load('../resultsNumpy/alg4Specific1000Net1_epss.npy')\n",
    "a2 = np.load('../resultsNumpy/alg4Specific1000Net1-part2_epss.npy')\n",
    "\n",
    "for i in range(1000):\n",
    "    if np.array_equiv(a1[-1, :], np.zeros((1, 10))):\n",
    "        a1 = a1[:-1, :]\n",
    "        b1 = b1[:-1, :]\n",
    "\n",
    "for i in range(1000):\n",
    "    if np.array_equiv(a2[-1, :], np.zeros((1, 10))):\n",
    "        a2 = a2[:-1, :]\n",
    "\n",
    "epss = np.concatenate((a1, a2))\n",
    "imgs = np.concatenate((b1, b2))\n",
    "print(a1.shape)\n",
    "print(a2.shape)\n",
    "print(b1.shape)\n",
    "print(b2.shape)\n",
    "print(imgs.shape)\n",
    "print(epss.shape)\n",
    "analyse.conditionNumberComponentwise(\n",
    "    net, data, epss, imgs, 'conditionNumbersAlg4', type=2)\n"
   ]
  },
  {
   "cell_type": "code",
   "execution_count": null,
   "metadata": {},
   "outputs": [],
   "source": [
    "net = net2\n",
    "n = 1000\n",
    "data = load_mnist.testSetCorrect(net, n)\n",
    "i = 2\n",
    "imgs = np.load('../resultsNumpy/alg{}Specific1000Net1_imgs.npy'.format(i))\n",
    "epss = np.load('../resultsNumpy/alg{}Specific1000Net1_epss.npy'.format(i))\n",
    "analyse.conditionNumberNormwise(net, data, epss, imgs, 'conditionNumbersAlg2')\n"
   ]
  },
  {
   "cell_type": "code",
   "execution_count": null,
   "metadata": {},
   "outputs": [],
   "source": [
    "a = np.load('../resultsNumpy/alg4Specific1000Net1-part2_epss.npy')\n",
    "print(a.shape)\n",
    "for i in range(1000):\n",
    "    if np.array_equiv(a[-1, :], np.zeros((1, 10))):\n",
    "        a = a[:-1, :]\n",
    "a.shape\n"
   ]
  },
  {
   "cell_type": "code",
   "execution_count": null,
   "metadata": {},
   "outputs": [],
   "source": [
    "net = net2\n",
    "n = 100\n",
    "alg = alg2.Al1()\n",
    "data = load_mnist.testSetCorrect(net, n)\n",
    "\n",
    "testSave.specific(net, data, alg, 'alg2Specific100Net1')\n"
   ]
  },
  {
   "cell_type": "code",
   "execution_count": null,
   "metadata": {},
   "outputs": [],
   "source": [
    "net = net2\n",
    "n = 1000\n",
    "alg = alg2.Al1()\n",
    "data = load_mnist.testSetCorrect(net, n)\n",
    "\n",
    "testSave.specific(net, data, alg, 'alg2Specific1000Net1')\n"
   ]
  },
  {
   "cell_type": "code",
   "execution_count": null,
   "metadata": {},
   "outputs": [],
   "source": [
    "net = net2\n",
    "n = 1000\n",
    "alg = alg3.Al1()\n",
    "data = load_mnist.testSetCorrect(net, n)\n",
    "\n",
    "testSave.specific(net, data, alg, 'alg3Specific1000Net1')\n"
   ]
  },
  {
   "cell_type": "code",
   "execution_count": null,
   "metadata": {},
   "outputs": [],
   "source": [
    "net = net2\n",
    "n = 1000\n",
    "alg = alg3.Al1(type=2)\n",
    "data = load_mnist.testSetCorrect(net, n)\n",
    "\n",
    "testSave.specific(net, data, alg, 'alg4Specific1000Net1')\n"
   ]
  },
  {
   "cell_type": "code",
   "execution_count": null,
   "metadata": {},
   "outputs": [],
   "source": [
    "net = net2\n",
    "n = 100\n",
    "alg = alg2.Al0()\n",
    "data = load_mnist.testSetCorrect(net, n)\n",
    "\n",
    "testSave.specific(net, data, alg, 'alg2Specific100Net1Analytic')\n"
   ]
  },
  {
   "cell_type": "code",
   "execution_count": null,
   "metadata": {},
   "outputs": [],
   "source": [
    "net = net2\n",
    "n = 100\n",
    "alg = alg3.Al1()\n",
    "data = load_mnist.testSetCorrect(net, n)\n",
    "\n",
    "testSave.specific(net, data, alg, 'alg3Specific100Net1')\n"
   ]
  },
  {
   "cell_type": "code",
   "execution_count": null,
   "metadata": {},
   "outputs": [],
   "source": [
    "net = net2\n",
    "n = 100\n",
    "alg = alg3.Al1(type=2)\n",
    "data = load_mnist.testSetCorrect(net, n)\n",
    "\n",
    "testSave.specific(net, data, alg, 'alg4Specific100Net1')\n"
   ]
  },
  {
   "cell_type": "code",
   "execution_count": null,
   "metadata": {},
   "outputs": [],
   "source": [
    "net = net2\n",
    "n = 100\n",
    "alg = alg3.Al0(type=2)\n",
    "data = load_mnist.testSetCorrect(net, n)\n",
    "\n",
    "testSave.specific(net, data, alg, 'alg4Specific100Net1Analytic')\n"
   ]
  },
  {
   "cell_type": "code",
   "execution_count": null,
   "metadata": {},
   "outputs": [],
   "source": [
    "net = net3\n",
    "n = 100\n",
    "alg = alg2.Al1()\n",
    "data = load_mnist.testSetCorrect(net, n)\n",
    "\n",
    "testSave.specific(net, data, alg, 'alg2Specific100Net2')\n"
   ]
  },
  {
   "cell_type": "code",
   "execution_count": null,
   "metadata": {},
   "outputs": [],
   "source": [
    "net = net4\n",
    "n = 100\n",
    "alg = alg2.Al1()\n",
    "data = load_mnist.testSetCorrect(net, n)\n",
    "\n",
    "testSave.specific(net, data, alg, 'alg2Specific100Net3')\n"
   ]
  },
  {
   "cell_type": "code",
   "execution_count": null,
   "metadata": {},
   "outputs": [],
   "source": [
    "net = net4\n",
    "n = 100\n",
    "alg = alg2.Al0()\n",
    "data = load_mnist.testSetCorrect(net, n)\n",
    "\n",
    "testSave.specific(net, data, alg, 'alg2Specific100Net3Analytic')\n"
   ]
  },
  {
   "cell_type": "code",
   "execution_count": null,
   "metadata": {},
   "outputs": [],
   "source": [
    "net = net3\n",
    "n = 100\n",
    "alg = alg3.Al1(type=2)\n",
    "data = load_mnist.testSetCorrect(net, n)\n",
    "\n",
    "testSave.specific(net, data, alg, 'alg4Specific100Net2')\n"
   ]
  },
  {
   "cell_type": "code",
   "execution_count": null,
   "metadata": {},
   "outputs": [],
   "source": [
    "net = net4\n",
    "n = 100\n",
    "alg = alg3.Al1(type=2)\n",
    "data = load_mnist.testSetCorrect(net, n)\n",
    "\n",
    "testSave.specific(net, data, alg, 'alg4Specific100Net3')\n"
   ]
  },
  {
   "cell_type": "code",
   "execution_count": null,
   "metadata": {},
   "outputs": [],
   "source": [
    "net = net4\n",
    "n = 100\n",
    "alg = alg3.Al0(type=2)\n",
    "data = load_mnist.testSetCorrect(net, n)\n",
    "\n",
    "testSave.specific(net, data, alg, 'alg4Specific100Net3Analytic')\n"
   ]
  },
  {
   "cell_type": "code",
   "execution_count": null,
   "metadata": {},
   "outputs": [],
   "source": [
    "net = net2\n",
    "n = 100\n",
    "alg = alg2.Al0(num=True)\n",
    "data = load_mnist.testSetCorrect(net, n)\n",
    "\n",
    "testSave.specific(net, data, alg, 'alg2Specific100Net1Numerical')\n"
   ]
  },
  {
   "cell_type": "code",
   "execution_count": null,
   "metadata": {},
   "outputs": [],
   "source": [
    "net = net2\n",
    "n = 100\n",
    "alg = alg3.Al0(type=2, num=True)\n",
    "data = load_mnist.testSetCorrect(net, n)\n",
    "\n",
    "testSave.specific(net, data, alg, 'alg4Specific100Net1Numerical')\n"
   ]
  },
  {
   "cell_type": "code",
   "execution_count": null,
   "metadata": {},
   "outputs": [],
   "source": [
    "net = net4\n",
    "n = 100\n",
    "alg = alg2.Al0(num=True)\n",
    "data = load_mnist.testSetCorrect(net, n)\n",
    "\n",
    "testSave.specific(net, data, alg, 'alg2Specific100Net3Numerical')\n"
   ]
  },
  {
   "cell_type": "code",
   "execution_count": null,
   "metadata": {},
   "outputs": [],
   "source": [
    "net = net4\n",
    "n = 100\n",
    "alg = alg3.Al0(type=2, num=True)\n",
    "data = load_mnist.testSetCorrect(net, n)\n",
    "\n",
    "testSave.specific(net, data, alg, 'alg4Specific100Net3Numerical')\n"
   ]
  },
  {
   "cell_type": "code",
   "execution_count": null,
   "metadata": {},
   "outputs": [],
   "source": [
    "net = net2\n",
    "n = 100\n",
    "alg = nothing.Al()\n",
    "data = load_mnist.testSetCorrect(net, n)\n",
    "\n",
    "testSave.specific(net, data, alg, 'original100')\n"
   ]
  },
  {
   "cell_type": "code",
   "execution_count": null,
   "metadata": {},
   "outputs": [],
   "source": [
    "names = ['alg2Specific100Net1', 'alg3Specific100Net1', 'alg4Specific100Net1']\n",
    "imglists = np.array(\n",
    "    [np.load('../resultsNumpy/{}_imgs.npy'.format(name)) for name in names])\n",
    "epssLists = np.array(\n",
    "    [np.load('../resultsNumpy/{}_epss.npy'.format(name)) for name in names])\n",
    "analyse.compareImages(imglists, epssLists, [0, 1, 2, 3, 4], [3, 2, 1, 17, 4], [\n",
    "                      9, 2, 1, 7, 5], 'ImageComparison1.1NEW')\n"
   ]
  },
  {
   "cell_type": "code",
   "execution_count": null,
   "metadata": {},
   "outputs": [],
   "source": [
    "names = ['alg2Specific100Net1', 'alg3Specific100Net1', 'alg4Specific100Net1']\n",
    "imglists = np.array(\n",
    "    [np.load('../resultsNumpy/{}_imgs.npy'.format(name)) for name in names])\n",
    "epssLists = np.array(\n",
    "    [np.load('../resultsNumpy/{}_epss.npy'.format(name)) for name in names])\n",
    "analyse.compareImages(imglists, epssLists, [5, 6, 7, 8, 9], [\n",
    "                      14, 10, 0, 60, 7], [9, 1, 5, 7, 3], 'ImageComparison1.2NEW')\n"
   ]
  },
  {
   "cell_type": "code",
   "execution_count": null,
   "metadata": {},
   "outputs": [],
   "source": [
    "names = ['alg2Specific100Net1', 'alg3Specific100Net1', 'alg4Specific100Net1']\n",
    "imglists = np.array(\n",
    "    [np.load('../resultsNumpy/{}_imgs.npy'.format(name)) for name in names])\n",
    "epssLists = np.array(\n",
    "    [np.load('../resultsNumpy/{}_epss.npy'.format(name)) for name in names])\n",
    "\n",
    "indices = [3, 2, 1, 17, 4, 14, 10, 0, 60, 7]\n",
    "originals = np.load('../resultsNumpy/original100_imgs.npy')\n",
    "for i in range(10):\n",
    "    analyse.fullComparisonImages(\n",
    "        originals, imglists, epssLists, indices[i], i, 'ImageComparisonFull{}'.format(i))\n"
   ]
  },
  {
   "cell_type": "code",
   "execution_count": null,
   "metadata": {},
   "outputs": [],
   "source": [
    "names = ['alg2Specific100Net1', 'alg2Specific100Net2', 'alg2Specific100Net3',\n",
    "         'alg4Specific100Net1', 'alg4Specific100Net2', 'alg4Specific100Net3']\n",
    "epssLists = np.array([analyse.specificToAny(\n",
    "    np.load('../resultsNumpy/{}_epss.npy'.format(name))) for name in names])\n",
    "analyse.comparePerformance(epssLists, ['Net 1 alg2', 'Net 2 alg2', ' Net 3 alg2', 'Net 1 alg4', 'Net 2 alg4', ' Net 3 alg4'],\n",
    "                           'PerformanceComparison2', legendOrder=['Net 1 alg2', 'Net 2 alg2', ' Net 3 alg2', 'Net 1 alg4', 'Net 2 alg4', ' Net 3 alg4'])\n"
   ]
  },
  {
   "cell_type": "code",
   "execution_count": null,
   "metadata": {},
   "outputs": [],
   "source": [
    "net = net2\n",
    "n = 100\n",
    "alg = ta.PGDL2(net, eps=0.1, alpha=0.1, steps=4)\n",
    "data = load_mnist.testSetCorrect(net, n)\n",
    "\n",
    "testSave.any(net, data, att.Att(alg), 'PGDBest100Net1')\n"
   ]
  },
  {
   "cell_type": "code",
   "execution_count": null,
   "metadata": {},
   "outputs": [],
   "source": [
    "net = net2\n",
    "n = 100\n",
    "alg = ta.DeepFool(net, steps=10)\n",
    "data = load_mnist.testSetCorrect(net, n)\n",
    "\n",
    "testSave.any(net, data, att.Att(alg), 'DeepFoolBest100Net1')\n"
   ]
  },
  {
   "cell_type": "code",
   "execution_count": null,
   "metadata": {},
   "outputs": [],
   "source": [
    "np.save('../resultsNumpy/alg2Best100Net1_epss.npy',\n",
    "        analyse.specificToBest(np.load('../resultsNumpy/alg2Specific100Net1_epss.npy')))\n",
    "np.save('../resultsNumpy/alg4Best100Net1_epss.npy',\n",
    "        analyse.specificToBest(np.load('../resultsNumpy/alg4Specific100Net1_epss.npy')))\n"
   ]
  },
  {
   "cell_type": "code",
   "execution_count": null,
   "metadata": {},
   "outputs": [],
   "source": [
    "names = ['alg2Best100Net1', 'PGDBest100Net1',\n",
    "         'alg4Best100Net1', 'DeepFoolBest100Net1']\n",
    "epssLists = np.array(\n",
    "    [np.load('../resultsNumpy/{}_epss.npy'.format(name)) for name in names])\n",
    "\n",
    "order = ['alg2', 'PGDL', 'alg4', 'Deep Fool']\n",
    "\n",
    "# order = ['alg2','alg3','alg4','alg1']\n",
    "# analyse.comparePerformance(epssLists, order,'PerformanceComparison1',styleOrder=order,palOrder=[3,0,1,2])\n",
    "\n",
    "analyse.comparePerformance(epssLists, ['alg2', 'PGDL', 'alg4', 'Deep Fool'], 'PerformanceComparison3V2', styleOrder=[\n",
    "                           'alg2', 'PGDL', 'alg4', 'Deep Fool'], palOrder=[0, 2, 1, 3], legendOrder=['alg2', 'alg4', 'PGDL', 'Deep Fool'])\n"
   ]
  },
  {
   "cell_type": "code",
   "execution_count": null,
   "metadata": {},
   "outputs": [],
   "source": [
    "names = ['alg2Specific100Net1Analytic', 'alg2Specific100Net1Numerical', 'alg4Specific100Net1Analytic', 'alg4Specific100Net1Numerical',\n",
    "         'alg2Specific100Net3Analytic', 'alg2Specific100Net3Numerical', 'alg4Specific100Net3Analytic', 'alg4Specific100Net3Numerical']\n",
    "epssLists = np.array([analyse.specificToAny(\n",
    "    np.load('../resultsNumpy/{}_epss.npy'.format(name))) for name in names])\n",
    "analyse.comparePerformance(epssLists, ['Net 1 alg2', 'Net 1 alg2 numerical', 'Net 1 alg4', 'Net 1 alg4 numerical', 'Net 3 alg2', 'Net 3 alg2 numerical', 'Net 3 alg4', 'Net 3 alg4 numerical'],\n",
    "                           'PerformanceComparison4', legendOrder=['Net 1 alg2', 'Net 1 alg2 numerical', 'Net 1 alg4', 'Net 1 alg4 numerical', 'Net 3 alg2', 'Net 3 alg2 numerical', 'Net 3 alg4', 'Net 3 alg4 numerical'])\n"
   ]
  }
 ],
 "metadata": {
  "kernelspec": {
   "display_name": "Python 3.9.7 ('.venv': venv)",
   "language": "python",
   "name": "python3"
  },
  "language_info": {
   "codemirror_mode": {
    "name": "ipython",
    "version": 3
   },
   "file_extension": ".py",
   "mimetype": "text/x-python",
   "name": "python",
   "nbconvert_exporter": "python",
   "pygments_lexer": "ipython3",
   "version": "3.9.7"
  },
  "orig_nbformat": 4,
  "vscode": {
   "interpreter": {
    "hash": "bc21c73f1f1eb2bce100f5b3fef389698dbb983c28112a4151efe1a04e0d587d"
   }
  }
 },
 "nbformat": 4,
 "nbformat_minor": 2
}
