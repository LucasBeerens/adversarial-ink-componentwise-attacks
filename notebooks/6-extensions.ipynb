{
 "cells": [
  {
   "cell_type": "code",
   "execution_count": null,
   "metadata": {},
   "outputs": [],
   "source": [
    "import sys\n",
    "import os\n",
    "src_dir = os.path.join(os.getcwd(), '..', 'src')\n",
    "sys.path.append(src_dir)\n"
   ]
  },
  {
   "cell_type": "code",
   "execution_count": null,
   "metadata": {},
   "outputs": [],
   "source": [
    "import torch\n",
    "import torchvision.transforms as transforms\n",
    "import numpy as np\n",
    "import seaborn as sns\n",
    "import pandas as pd\n",
    "import torchattacks as ta\n",
    "import matplotlib.pyplot as plt\n",
    "\n",
    "from models import mnist, cifar\n",
    "from data_attacks import alg1, alg2, alg3, attackAny, nothing\n",
    "from load_data import load_mnist, load_mnist_inv, load_cifar\n",
    "from utils import test_attack, att\n",
    "from utils import vis_attack as vis\n",
    "from utils import saveAttackResults as testSave\n",
    "from utils import analyse\n"
   ]
  },
  {
   "cell_type": "code",
   "execution_count": null,
   "metadata": {},
   "outputs": [],
   "source": [
    "net1 = mnist.MNIST1()\n",
    "net1.load_state_dict(torch.load('../models/mnist-net1.pt'))\n",
    "net1.eval()\n",
    "\n",
    "net2 = mnist.MNIST2()\n",
    "net2.load_state_dict(torch.load('../models/mnist-net2.pt'))\n",
    "net2.eval()\n",
    "\n",
    "net3 = mnist.MNIST3()\n",
    "net3.load_state_dict(torch.load('../models/mnist-net3.pt'))\n",
    "net3.eval()\n",
    "\n",
    "net4 = mnist.MNIST4()\n",
    "net4.load_state_dict(torch.load('../models/mnist-net4.pt'))\n",
    "net4.eval()\n",
    "\n",
    "netInv1 = mnist.MNIST1()\n",
    "netInv1.load_state_dict(torch.load('../models/mnistInv-net1.pt'))\n",
    "netInv1.eval()\n",
    "\n",
    "netInv2 = mnist.MNIST2()\n",
    "netInv2.load_state_dict(torch.load('../models/mnistInv-net2.pt'))\n",
    "netInv2.eval()\n",
    "\n",
    "netInv3 = mnist.MNIST3()\n",
    "netInv3.load_state_dict(torch.load('../models/mnistInv-net3.pt'))\n",
    "netInv3.eval()\n",
    "\n",
    "netInv4 = mnist.MNIST4()\n",
    "netInv4.load_state_dict(torch.load('../models/mnistInv-net4.pt'))\n",
    "netInv4.eval()\n",
    "\n",
    "netCif1 = cifar.CIFAR1()\n",
    "netCif1.load_state_dict(torch.load('../models/cifar-net1.pt'))\n",
    "netCif1.eval()\n",
    "\n",
    "netCif2 = cifar.CIFAR2()\n",
    "netCif2.load_state_dict(torch.load('../models/cifar-net2.pt'))\n",
    "netCif2.eval()\n"
   ]
  },
  {
   "cell_type": "code",
   "execution_count": null,
   "metadata": {},
   "outputs": [],
   "source": [
    "id = 60\n",
    "net = net2\n",
    "img = load_mnist.testSetCorrect(net, id+1)[id][0]\n",
    "im = img[0, 0, :, :]\n"
   ]
  },
  {
   "cell_type": "code",
   "execution_count": null,
   "metadata": {},
   "outputs": [],
   "source": [
    "blurrer = transforms.GaussianBlur(kernel_size=3, sigma=1)\n",
    "blurred = blurrer(img)[0, 0, :, :]\n",
    "\n",
    "figure = plt.figure(figsize=(12, 6))\n",
    "ax = figure.add_subplot(1, 2, 1)\n",
    "plt.imshow(im, cmap='gray')\n",
    "ax = figure.add_subplot(1, 2, 2)\n",
    "plt.imshow(blurred, cmap='gray')\n",
    "plt.show()\n"
   ]
  },
  {
   "cell_type": "code",
   "execution_count": null,
   "metadata": {},
   "outputs": [],
   "source": [
    "net = net2\n",
    "n = 10\n",
    "alg = alg3.Al1(type=2)\n",
    "data = load_mnist.testSetCorrect(net, n)\n",
    "\n",
    "testSave.specific(net, data, alg, 'alg4Specific10Net1')\n"
   ]
  },
  {
   "cell_type": "code",
   "execution_count": null,
   "metadata": {},
   "outputs": [],
   "source": [
    "net = net2\n",
    "n = 10\n",
    "alg = alg3.Al1(type=3)\n",
    "data = load_mnist.testSetCorrect(net, n)\n",
    "\n",
    "testSave.specific(net, data, alg, 'alg5Specific10Net1Analytic')\n"
   ]
  },
  {
   "cell_type": "code",
   "execution_count": null,
   "metadata": {},
   "outputs": [],
   "source": [
    "net = net2\n",
    "n = 10\n",
    "alg = alg3.Al1(type=3, tolerance=2)\n",
    "data = load_mnist.testSetCorrect(net, n)\n",
    "\n",
    "testSave.specific(net, data, alg, 'alg6Specific10Net1Analytic')\n"
   ]
  },
  {
   "cell_type": "code",
   "execution_count": null,
   "metadata": {},
   "outputs": [],
   "source": [
    "net = net2\n",
    "n = 10\n",
    "alg = alg3.Al1(type=2, tolerance=2)\n",
    "data = load_mnist.testSetCorrect(net, n)\n",
    "\n",
    "testSave.specific(net, data, alg, 'alg7Specific10Net1Analytic')\n"
   ]
  },
  {
   "cell_type": "code",
   "execution_count": null,
   "metadata": {},
   "outputs": [],
   "source": [
    "names = ['alg4Specific10Net1', 'alg5Specific10Net1Analytic',\n",
    "         'alg6Specific10Net1Analytic', 'alg7Specific10Net1Analytic']\n",
    "imglists = np.array(\n",
    "    [np.load('../resultsNumpy/{}_imgs.npy'.format(name)) for name in names])\n",
    "epssLists = np.array(\n",
    "    [np.load('../resultsNumpy/{}_epss.npy'.format(name)) for name in names])\n",
    "indices = [0, 1, 2, 3, 4, 5, 6, 7, 8, 9]\n",
    "originals = np.load('../resultsNumpy/original100_imgs.npy')\n",
    "for i in range(10):\n",
    "    analyse.fullComparisonImages(\n",
    "        originals, imglists, epssLists, indices[i], i, 'Algs567ImageComparisonFull{}'.format(i))\n"
   ]
  }
 ],
 "metadata": {
  "kernelspec": {
   "display_name": "Python 3.9.7 ('.venv': venv)",
   "language": "python",
   "name": "python3"
  },
  "language_info": {
   "codemirror_mode": {
    "name": "ipython",
    "version": 3
   },
   "file_extension": ".py",
   "mimetype": "text/x-python",
   "name": "python",
   "nbconvert_exporter": "python",
   "pygments_lexer": "ipython3",
   "version": "3.9.7"
  },
  "orig_nbformat": 4,
  "vscode": {
   "interpreter": {
    "hash": "bc21c73f1f1eb2bce100f5b3fef389698dbb983c28112a4151efe1a04e0d587d"
   }
  }
 },
 "nbformat": 4,
 "nbformat_minor": 2
}
