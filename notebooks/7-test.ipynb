{
 "cells": [
  {
   "cell_type": "code",
   "execution_count": 1,
   "metadata": {},
   "outputs": [],
   "source": [
    "import sys\n",
    "import os \n",
    "src_dir = os.path.join(os.getcwd(), '..', 'src')\n",
    "sys.path.append(src_dir)"
   ]
  },
  {
   "cell_type": "code",
   "execution_count": 2,
   "metadata": {},
   "outputs": [],
   "source": [
    "import torch\n",
    "import numpy as np\n",
    "import seaborn as sns\n",
    "import pandas as pd\n",
    "import torchattacks as ta\n",
    "import matplotlib.pyplot as plt\n",
    "\n",
    "from models import mnist, cifar\n",
    "from data_attacks import alg1, alg2, alg3, attackAny, nothing\n",
    "from load_data import load_mnist, load_mnist_inv, load_cifar\n",
    "from utils import test_attack, att\n",
    "from utils import vis_attack as vis\n",
    "from utils import saveAttackResults as testSave\n",
    "from utils import analyse"
   ]
  },
  {
   "cell_type": "code",
   "execution_count": 3,
   "metadata": {},
   "outputs": [],
   "source": [
    "net1 = mnist.MNIST1()\n",
    "net1.load_state_dict(torch.load('../models/mnist-net1.pt'))\n",
    "net1.eval()\n",
    "\n",
    "net2 = mnist.MNIST2()\n",
    "net2.load_state_dict(torch.load('../models/mnist-net2.pt'))\n",
    "net2.eval()\n",
    "\n",
    "net3 = mnist.MNIST3()\n",
    "net3.load_state_dict(torch.load('../models/mnist-net3.pt'))\n",
    "net3.eval()\n",
    "\n",
    "net4 = mnist.MNIST4()\n",
    "net4.load_state_dict(torch.load('../models/mnist-net4.pt'))\n",
    "net4.eval()\n",
    "\n",
    "netInv1 = mnist.MNIST1()\n",
    "netInv1.load_state_dict(torch.load('../models/mnistInv-net1.pt'))\n",
    "netInv1.eval()\n",
    "\n",
    "netInv2 = mnist.MNIST2()\n",
    "netInv2.load_state_dict(torch.load('../models/mnistInv-net2.pt'))\n",
    "netInv2.eval()\n",
    "\n",
    "netInv3 = mnist.MNIST3()\n",
    "netInv3.load_state_dict(torch.load('../models/mnistInv-net3.pt'))\n",
    "netInv3.eval()\n",
    "\n",
    "netInv4 = mnist.MNIST4()\n",
    "netInv4.load_state_dict(torch.load('../models/mnistInv-net4.pt'))\n",
    "netInv4.eval()\n",
    "\n",
    "netCif1 = cifar.CIFAR1()\n",
    "netCif1.load_state_dict(torch.load('../models/cifar-net1.pt'))\n",
    "netCif1.eval()\n",
    "\n",
    "netCif2 = cifar.CIFAR2()\n",
    "netCif2.load_state_dict(torch.load('../models/cifar-net2.pt'))\n",
    "netCif2.eval();"
   ]
  },
  {
   "cell_type": "code",
   "execution_count": 165,
   "metadata": {},
   "outputs": [],
   "source": [
    "id = 145\n",
    "net = net2\n",
    "correct = load_mnist.testSetCorrect(net,id+1)\n",
    "atk1 = att.Att(ta.DeepFool(net, steps=10))\n",
    "atk2 = attackAny.Any(alg3.Al1(type=2))\n",
    "atk3 = attackAny.Any(nothing.Al())"
   ]
  },
  {
   "cell_type": "code",
   "execution_count": 171,
   "metadata": {},
   "outputs": [],
   "source": [
    "im1, eps1 = atk1(net,correct[id][0])"
   ]
  },
  {
   "cell_type": "code",
   "execution_count": 170,
   "metadata": {},
   "outputs": [
    {
     "name": "stdout",
     "output_type": "stream",
     "text": [
      "tensor([2])\n",
      "0.08999908\n"
     ]
    }
   ],
   "source": [
    "outputs = net(im1)\n",
    "_, predicted = torch.max(outputs.data,1)\n",
    "print(predicted)\n",
    "print(eps1)"
   ]
  },
  {
   "cell_type": "code",
   "execution_count": 172,
   "metadata": {},
   "outputs": [
    {
     "data": {
      "image/png": "[encoded data removed]",
      "text/plain": [
       "<Figure size 432x288 with 1 Axes>"
      ]
     },
     "metadata": {
      "needs_background": "light"
     },
     "output_type": "display_data"
    }
   ],
   "source": [
    "plt.axis(\"off\")\n",
    "plt.imshow(torch.ones((28,28)) - im1[0,0,:,:],cmap='gray')\n",
    "plt.savefig('../results2/{}.png'.format('deepfool8'),bbox_inches='tight')"
   ]
  },
  {
   "cell_type": "code",
   "execution_count": 167,
   "metadata": {},
   "outputs": [
    {
     "data": {
      "image/png": "[encoded data removed]",
      "text/plain": [
       "<Figure size 432x288 with 1 Axes>"
      ]
     },
     "metadata": {
      "needs_background": "light"
     },
     "output_type": "display_data"
    }
   ],
   "source": [
    "name = 'alg4Specific1000Net1'\n",
    "imgs = np.load('../resultsNumpy/{}_imgs.npy'.format(name))\n",
    "im2 = torch.tensor(imgs[id,predicted])[None,None].float()\n",
    "plt.axis(\"off\")\n",
    "plt.imshow(torch.ones((28,28)) - im2[0,0,:,:],cmap='gray')\n",
    "plt.savefig('../results2/{}.png'.format('componentwise8'),bbox_inches='tight')"
   ]
  },
  {
   "cell_type": "code",
   "execution_count": 160,
   "metadata": {},
   "outputs": [
    {
     "name": "stdout",
     "output_type": "stream",
     "text": [
      "0.22526411712169647\n"
     ]
    }
   ],
   "source": [
    "eps2 = np.load('../resultsNumpy/{}_epss.npy'.format(name))[id,predicted]\n",
    "print(eps2)"
   ]
  },
  {
   "cell_type": "code",
   "execution_count": 157,
   "metadata": {},
   "outputs": [
    {
     "name": "stdout",
     "output_type": "stream",
     "text": [
      "tensor([2])\n"
     ]
    }
   ],
   "source": [
    "outputs = net(im2)\n",
    "_, predicted = torch.max(outputs.data,1)\n",
    "print(predicted)"
   ]
  },
  {
   "cell_type": "code",
   "execution_count": 166,
   "metadata": {},
   "outputs": [],
   "source": [
    "im3, eps3 = atk3(net,correct[id][0])"
   ]
  },
  {
   "cell_type": "code",
   "execution_count": 168,
   "metadata": {},
   "outputs": [
    {
     "data": {
      "image/png": "[encoded data removed]",
      "text/plain": [
       "<Figure size 432x288 with 1 Axes>"
      ]
     },
     "metadata": {
      "needs_background": "light"
     },
     "output_type": "display_data"
    }
   ],
   "source": [
    "plt.axis(\"off\")\n",
    "plt.imshow(torch.ones((28,28)) - im3[0,0,:,:],cmap='gray')\n",
    "plt.savefig('../results2/{}.png'.format('original8'),bbox_inches='tight')"
   ]
  }
 ],
 "metadata": {
  "kernelspec": {
   "display_name": ".venv",
   "language": "python",
   "name": "python3"
  },
  "language_info": {
   "codemirror_mode": {
    "name": "ipython",
    "version": 3
   },
   "file_extension": ".py",
   "mimetype": "text/x-python",
   "name": "python",
   "nbconvert_exporter": "python",
   "pygments_lexer": "ipython3",
   "version": "3.9.7"
  },
  "orig_nbformat": 4
 },
 "nbformat": 4,
 "nbformat_minor": 2
}
