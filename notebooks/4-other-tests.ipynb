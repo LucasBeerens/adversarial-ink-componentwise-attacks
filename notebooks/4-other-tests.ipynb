{
 "cells": [
  {
   "cell_type": "code",
   "execution_count": null,
   "metadata": {},
   "outputs": [],
   "source": [
    "import sys\n",
    "import os \n",
    "src_dir = os.path.join(os.getcwd(), '..', 'src')\n",
    "sys.path.append(src_dir)"
   ]
  },
  {
   "cell_type": "code",
   "execution_count": null,
   "metadata": {},
   "outputs": [],
   "source": [
    "import torch\n",
    "import numpy as np\n",
    "\n",
    "from utils import jacobian\n",
    "from models import mnist\n",
    "from load_data import load_mnist\n",
    "from data_attacks import alg1, alg2, alg3, attackAny\n",
    "from utils import bestMatrix\n",
    "from utils import latex"
   ]
  },
  {
   "cell_type": "code",
   "execution_count": null,
   "metadata": {},
   "outputs": [],
   "source": [
    "net1 = mnist.MNIST1()\n",
    "net1.load_state_dict(torch.load('../models/mnist-net1.pt'))\n",
    "net1.eval()\n",
    "\n",
    "net2 = mnist.MNIST2()\n",
    "net2.load_state_dict(torch.load('../models/mnist-net2.pt'))\n",
    "net2.eval()\n",
    "\n",
    "net3 = mnist.MNIST3()\n",
    "net3.load_state_dict(torch.load('../models/mnist-net3.pt'))\n",
    "net3.eval()\n",
    "\n",
    "net4 = mnist.MNIST4()\n",
    "net4.load_state_dict(torch.load('../models/mnist-net4.pt'))\n",
    "net4.eval();"
   ]
  },
  {
   "cell_type": "code",
   "execution_count": null,
   "metadata": {},
   "outputs": [],
   "source": [
    "with torch.no_grad():\n",
    "    id = 21\n",
    "    net = net1\n",
    "    correct = load_mnist.testSetCorrect(net,id+1)\n",
    "    img = correct[id][0]\n",
    "    imgLen = img.nelement()\n",
    "    j = jac.approx(net,img)"
   ]
  },
  {
   "cell_type": "code",
   "execution_count": null,
   "metadata": {},
   "outputs": [],
   "source": [
    "n=100\n",
    "net = net2\n",
    "correct = load_mnist.testSetCorrect(net,n)\n",
    "\n",
    "bm1 = bestMatrix.create(net, correct, alg1.Al1())"
   ]
  },
  {
   "cell_type": "code",
   "execution_count": null,
   "metadata": {},
   "outputs": [],
   "source": [
    "n=100\n",
    "net = net2\n",
    "correct = load_mnist.testSetCorrect(net,n)\n",
    "\n",
    "bm2 = bestMatrix.create(net, correct, alg2.Al1())"
   ]
  },
  {
   "cell_type": "code",
   "execution_count": null,
   "metadata": {},
   "outputs": [],
   "source": [
    "n=100\n",
    "net = net2\n",
    "correct = load_mnist.testSetCorrect(net,n)\n",
    "\n",
    "bm3 = bestMatrix.create(net, correct, alg3.Al0())"
   ]
  },
  {
   "cell_type": "code",
   "execution_count": null,
   "metadata": {},
   "outputs": [],
   "source": [
    "latex.matrix(np.round(np.load('bm3.npy'),decimals=2))"
   ]
  }
 ],
 "metadata": {
  "kernelspec": {
   "display_name": "Python 3.9.7 ('.venv': venv)",
   "language": "python",
   "name": "python3"
  },
  "language_info": {
   "codemirror_mode": {
    "name": "ipython",
    "version": 3
   },
   "file_extension": ".py",
   "mimetype": "text/x-python",
   "name": "python",
   "nbconvert_exporter": "python",
   "pygments_lexer": "ipython3",
   "version": "3.9.7"
  },
  "orig_nbformat": 4,
  "vscode": {
   "interpreter": {
    "hash": "643057c40023ccb10f22473f9d4df0fcead4ec60ae2f389010253986399efcb1"
   }
  }
 },
 "nbformat": 4,
 "nbformat_minor": 2
}
