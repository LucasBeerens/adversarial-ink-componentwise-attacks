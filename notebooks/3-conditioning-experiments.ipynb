{
 "cells": [
  {
   "cell_type": "code",
   "execution_count": null,
   "metadata": {},
   "outputs": [],
   "source": [
    "import sys\n",
    "import os\n",
    "src_dir = os.path.join(os.getcwd(), '..', 'src')\n",
    "sys.path.append(src_dir)\n"
   ]
  },
  {
   "cell_type": "code",
   "execution_count": null,
   "metadata": {},
   "outputs": [],
   "source": [
    "import torch\n",
    "from models import mnist\n",
    "from utils import test_condition as cn\n",
    "from load_data import load_mnist\n",
    "from data_attacks import alg1, alg2, alg3, attackAny\n"
   ]
  },
  {
   "cell_type": "code",
   "execution_count": null,
   "metadata": {},
   "outputs": [],
   "source": [
    "net2 = mnist.MNIST2()\n",
    "net2.load_state_dict(torch.load('../models/mnist-net2.pt'))\n"
   ]
  },
  {
   "cell_type": "code",
   "execution_count": null,
   "metadata": {},
   "outputs": [],
   "source": [
    "net = net2\n",
    "n = 100\n",
    "set = load_mnist.testSetCorrect(net, 100+n)[-n:]\n",
    "cn.normwise(net, set, attackAny.Any(alg2.Al1()), name='condPlotNorm')\n"
   ]
  },
  {
   "cell_type": "code",
   "execution_count": null,
   "metadata": {},
   "outputs": [],
   "source": [
    "net = net2\n",
    "n = 100\n",
    "set = load_mnist.testSetCorrect(net, 100+n)[-n:]\n",
    "cn.componentwise(net, set, attackAny.Any(alg3.Al0()), name='condPlotComp1')\n"
   ]
  },
  {
   "cell_type": "code",
   "execution_count": null,
   "metadata": {},
   "outputs": [],
   "source": [
    "net = net2\n",
    "n = 100\n",
    "set = load_mnist.testSetCorrect(net, 100+n)[-n:]\n",
    "cn.componentwise(net, set, attackAny.Any(alg3.Al0(tolerance=1)), name='condPlotComp2')\n"
   ]
  }
 ],
 "metadata": {
  "kernelspec": {
   "display_name": "Python 3.9.7 ('.venv': venv)",
   "language": "python",
   "name": "python3"
  },
  "language_info": {
   "codemirror_mode": {
    "name": "ipython",
    "version": 3
   },
   "file_extension": ".py",
   "mimetype": "text/x-python",
   "name": "python",
   "nbconvert_exporter": "python",
   "pygments_lexer": "ipython3",
   "version": "3.9.7"
  },
  "orig_nbformat": 4,
  "vscode": {
   "interpreter": {
    "hash": "643057c40023ccb10f22473f9d4df0fcead4ec60ae2f389010253986399efcb1"
   }
  }
 },
 "nbformat": 4,
 "nbformat_minor": 2
}
